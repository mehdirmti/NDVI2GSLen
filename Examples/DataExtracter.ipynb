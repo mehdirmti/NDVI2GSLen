{
 "cells": [
  {
   "cell_type": "code",
   "execution_count": 5,
   "metadata": {},
   "outputs": [],
   "source": [
    "import xarray as xr\n",
    "\n",
    "import sys\n",
    "sys.path.append('../Codes/')"
   ]
  },
  {
   "cell_type": "code",
   "execution_count": 6,
   "metadata": {},
   "outputs": [],
   "source": [
    "# Load the netCDF file\n",
    "file_path = '../Data/ndvi-Euro-MODIS.nc'\n",
    "ds = xr.open_dataset(file_path)"
   ]
  },
  {
   "cell_type": "code",
   "execution_count": 7,
   "metadata": {},
   "outputs": [
    {
     "name": "stdout",
     "output_type": "stream",
     "text": [
      "Subset saved to ../Data/SampleData.nc\n"
     ]
    }
   ],
   "source": [
    "# Define the bounding box for the region you want to extract\n",
    "# Replace with your desired latitude and longitude boundaries\n",
    "min_lat, max_lat = 48.0, 53.0  # e.g., for a region in Europe\n",
    "min_lon, max_lon = 15.0, 20.0\n",
    "\n",
    "# Subset the dataset to the specified latitude and longitude range\n",
    "subset_ds = ds.sel(lat=slice(min_lat, max_lat), lon=slice(min_lon, max_lon))\n",
    "\n",
    "# Save the subset as a new netCDF file\n",
    "output_file_path = '../Data/SampleData.nc'\n",
    "subset_ds.to_netcdf(output_file_path)\n",
    "\n",
    "print(f\"Subset saved to {output_file_path}\")"
   ]
  }
 ],
 "metadata": {
  "kernelspec": {
   "display_name": "env2024",
   "language": "python",
   "name": "python3"
  },
  "language_info": {
   "codemirror_mode": {
    "name": "ipython",
    "version": 3
   },
   "file_extension": ".py",
   "mimetype": "text/x-python",
   "name": "python",
   "nbconvert_exporter": "python",
   "pygments_lexer": "ipython3",
   "version": "3.11.9"
  }
 },
 "nbformat": 4,
 "nbformat_minor": 2
}
